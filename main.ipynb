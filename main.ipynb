{
 "cells": [
  {
   "cell_type": "code",
   "execution_count": 1,
   "metadata": {},
   "outputs": [],
   "source": [
    "import numpy as np\n",
    "import matplotlib.pyplot as plt"
   ]
  },
  {
   "cell_type": "markdown",
   "metadata": {},
   "source": [
    "## Define Parameters"
   ]
  },
  {
   "cell_type": "code",
   "execution_count": 2,
   "metadata": {},
   "outputs": [],
   "source": [
    "# Define system matrices\n",
    "tau = 0.1\n",
    "A = np.array([[1, tau, 0, 0], \n",
    "              [0, 1, 0, 0],\n",
    "              [0, 0, 1, tau],\n",
    "              [0, 0, 0, 1]])  \n",
    "B = np.array([[0.5 * tau ** 2, 0],\n",
    "              [tau, 0],\n",
    "              [0, 0.5 * tau ** 2],\n",
    "              [0, tau]])  \n"
   ]
  },
  {
   "cell_type": "code",
   "execution_count": 3,
   "metadata": {},
   "outputs": [],
   "source": [
    "# Define operational domain\n",
    "x_limits = [0, 5]\n",
    "y_limits = [0, 5]\n",
    "vel_limits = [-1, 1]\n",
    "\n",
    "# Define unsafe regions (obstacles)\n",
    "unsafe_regions = [\n",
    "    [[1, -1, 1, -1], [2, 1, 2, 1]],\n",
    "    [[1, -1, 3, -1], [2, 1, 5, 1]],\n",
    "    [[3, -1, 1, -1], [4, 1, 2, 1]],\n",
    "    [[3, -1, 2.5, -1], [4, 1, 3.5, 1]]\n",
    "]\n",
    "\n",
    "# Define target set\n",
    "target_set = [[4, -0.1, 4, -0.1], [5, 0.1, 5, 0.1]]"
   ]
  },
  {
   "cell_type": "code",
   "execution_count": 4,
   "metadata": {},
   "outputs": [
    {
     "data": {
      "image/png": "[encoded data removed]",
      "text/plain": [
       "<Figure size 700x700 with 1 Axes>"
      ]
     },
     "metadata": {},
     "output_type": "display_data"
    }
   ],
   "source": [
    "# Parameters\n",
    "tend = 50\n",
    "\n",
    "# Initialization\n",
    "x_init = np.array([0.5, 0.5, 0.5, 0.5])  # Initial position and velocity\n",
    "u_init = np.array([0, 0])\n",
    "trajectory = [x_init]\n",
    "input = [u_init]\n",
    "\n",
    "for k in range(tend):\n",
    "    x_next = A @ trajectory[-1] + B @ input[-1] \n",
    "    trajectory.append(x_next)\n",
    "\n",
    "trajectory = np.array(trajectory)\n",
    "\n",
    "# Plot trajectory of x over time\n",
    "fig, ax = plt.subplots(figsize=(7, 7))\n",
    "ax.set_xlim(x_limits)\n",
    "ax.set_ylim(y_limits)\n",
    "ax.set_xlabel(\"X Position\")\n",
    "ax.set_ylabel(\"Y Position\")\n",
    "ax.set_title(\"Discrete-Time Linear System State Plot\")\n",
    "\n",
    "ax.plot(trajectory[:, 0], trajectory[:, 2], marker=\"o\", linestyle=\"-\", label=\"Trajectory\")\n",
    "\n",
    "# Plot obstacles and target set\n",
    "for region in unsafe_regions:\n",
    "    bottom_left = [region[0][0], region[0][2]]\n",
    "    width = region[1][0] - region[0][0]\n",
    "    height = region[1][2] - region[0][2]\n",
    "    ax.add_patch(plt.Rectangle(bottom_left, width, height, color='red', alpha=0.5, label=\"Obstacle\"))\n",
    "\n",
    "bottom_left = [target_set[0][0], target_set[0][2]]\n",
    "width = target_set[1][0] - target_set[0][0]\n",
    "height = target_set[1][2] - target_set[0][2]\n",
    "ax.add_patch(plt.Rectangle(bottom_left, width, height, color='blue', alpha=0.5, label=\"Target\"))\n",
    "\n",
    "ax.legend([\"Trajectory\",\"Obstacle\",\"Target\"])\n",
    "plt.grid(True)\n",
    "plt.show()"
   ]
  },
  {
   "cell_type": "markdown",
   "metadata": {},
   "source": [
    "## Helper Functions"
   ]
  },
  {
   "cell_type": "code",
   "execution_count": 5,
   "metadata": {},
   "outputs": [
    {
     "name": "stdout",
     "output_type": "stream",
     "text": [
      "State 1: [0.5 0.5 0.5 0.5]\n",
      "  - Out of bounds: False\n",
      "  - Inside obstacle: False\n",
      "  - Illegal state: False\n",
      "  - Distance to target: 5.66\n",
      "\n",
      "State 2: [5.1 0.  4.  0. ]\n",
      "  - Out of bounds: True\n",
      "  - Inside obstacle: False\n",
      "  - Illegal state: True\n",
      "  - Distance to target: 0.78\n",
      "\n",
      "State 3: [1.5 0.  1.5 0. ]\n",
      "  - Out of bounds: False\n",
      "  - Inside obstacle: True\n",
      "  - Illegal state: True\n",
      "  - Distance to target: 4.24\n",
      "\n",
      "State 4: [4.5 0.  4.5 0. ]\n",
      "  - Out of bounds: False\n",
      "  - Inside obstacle: False\n",
      "  - Illegal state: False\n",
      "  - Distance to target: 0.00\n",
      "\n"
     ]
    }
   ],
   "source": [
    "def is_out_of_bounds(state):\n",
    "    \"\"\"Check if the state is out of the allowed operational domain.\"\"\"\n",
    "    x, vx, y, vy = state\n",
    "    if not (x_limits[0] <= x <= x_limits[1]):\n",
    "        return True\n",
    "    if not (y_limits[0] <= y <= y_limits[1]):\n",
    "        return True\n",
    "    if not (vel_limits[0] <= vx <= vel_limits[1]):\n",
    "        return True\n",
    "    if not (vel_limits[0] <= vy <= vel_limits[1]):\n",
    "        return True\n",
    "    return False\n",
    "\n",
    "def is_inside_obstacle(state):\n",
    "    \"\"\"Check if the state is inside any of the obstacles.\"\"\"\n",
    "    x, _, y, _ = state  # We only care about position\n",
    "    for lower, upper in unsafe_regions:\n",
    "        if lower[0] <= x <= upper[0] and lower[2] <= y <= upper[2]:\n",
    "            return True  # Inside an obstacle\n",
    "    return False\n",
    "\n",
    "def is_illegal_state(state):\n",
    "    \"\"\"Determine if the state is illegal (out of bounds or inside an obstacle).\"\"\"\n",
    "    return is_out_of_bounds(state) or is_inside_obstacle(state)\n",
    "\n",
    "def distance_to_target(state):\n",
    "    \"\"\"Compute the Euclidean distance from the state to the center of the target set.\"\"\"\n",
    "    position = np.array([state[0], state[2]])  # Extract x and y positions\n",
    "    target_position = np.array([4.5, 4.5])\n",
    "    return np.linalg.norm(position - target_position)\n",
    "\n",
    "# Example test cases\n",
    "test_states = [\n",
    "    np.array([0.5, 0.5, 0.5, 0.5]),  # Valid\n",
    "    np.array([5.1, 0, 4, 0]),  # Out of bounds (x)\n",
    "    np.array([1.5, 0, 1.5, 0]),  # Inside an obstacle\n",
    "    np.array([4.5, 0, 4.5, 0]),  # Target set center\n",
    "]\n",
    "\n",
    "# Run tests\n",
    "for i, state in enumerate(test_states):\n",
    "    print(f\"State {i+1}: {state}\")\n",
    "    print(f\"  - Out of bounds: {is_out_of_bounds(state)}\")\n",
    "    print(f\"  - Inside obstacle: {is_inside_obstacle(state)}\")\n",
    "    print(f\"  - Illegal state: {is_illegal_state(state)}\")\n",
    "    print(f\"  - Distance to target: {distance_to_target(state):.2f}\")\n",
    "    print()\n",
    "\n",
    "\n",
    "# functions to compare two x_k+1 see which is closer to the target zone"
   ]
  },
  {
   "cell_type": "markdown",
   "metadata": {},
   "source": [
    "## Method 1. Mixed Integer Linear Programming\n",
    "\n",
    "Start with Problem Formation:\n",
    "\n",
    "Define $N$ as the horizontal variable (time to reach the terminal set), which we will optimize, $\\gamma$ as our choice of weight which we may use to balance our cost of control and terminal time.\n",
    "$$\\begin{equation} min N + \\gamma\\sum^n_{k=0}||u_k|| \\end{equation}$$\n",
    "$s.t.$\n",
    "$$\\begin{equation}\\tag{IC}  x_0 = x_{init} \\end{equation}$$\n",
    "$$\\begin{equation}\\tag{DE}  x_{k+1} = Ax_k+Bu_k\\end{equation}$$\n",
    "$$\\begin{equation}\\tag{BC1}  x_{k+1} \\in \\mathcal{X} \\end{equation}$$\n",
    "$$\\begin{equation}\\tag{BC2}  u_k \\in \\mathcal{U} \\end{equation}$$\n",
    "$$\\begin{equation}\\tag{Obstacle Condition}  x_{k+1} \\notin \\mathcal{X}_U^j, 1 \\leq j \\leq N_o \\end{equation}$$\n",
    "$$\\begin{equation}\\tag{Target Condition}  x_{k+1} \\in \\mathcal{X}_T \\end{equation}$$\n",
    "\n",
    "Where\n",
    "$$0\\leq k \\leq N $$\n",
    "$$ A = \n",
    "\\begin{bmatrix} \n",
    "1 & \\tau & 0 & 0\\\\\n",
    "0 & 1 & 0 & 0 \\\\\n",
    "0 & 0 & 1 & \\tau \\\\\n",
    "0 & 0 & 0 & 1\n",
    "\\end{bmatrix},\n",
    "B = \n",
    "\\begin{bmatrix} \n",
    "0.5\\tau^2 & 0\\\\\n",
    "\\tau & 0 \\\\\n",
    "0 & 0.5\\tau^2 \\\\\n",
    "0 & \\tau\n",
    "\\end{bmatrix}\n",
    "$$\n",
    "\n",
    "One way of formulating the inequalities so it becomes a MPC-MILP (Model Predictive Control Mixed Integer Linear Programming) and can be solved using the algorithms presented in Schouwenaars et al (2001), is to use binary variables.\n",
    "\n",
    "Consider the obstacles set as the intersection of 4 half planes:\n",
    "$$\\mathcal{X}^j_U = \\{p_jCx \\leq q_j\\}$$\n",
    "where $p_j$ denotes the constant matrix in the left hand side of the half-plane inequalities defining obstacle $\\mathcal{X}^j_U$, and $q_j$ denotes the right hand side of the half plane inequalities, $C$ denotes the matrix that extracts position information from the state vector $x$.\n",
    "\n",
    "E.g. $\\mathcal{X}^1_U$, defined by the lower left extreme [1, 1] and upper right extreme [2, 2] can be represented as:\n",
    "$$\n",
    "\\mathcal{X}^1_U = \\{p_1Cx \\leq q_1 \\}\n",
    "$$\n",
    "where\n",
    "$$ C= \n",
    "\\begin{bmatrix} \n",
    "1 & 0 & 0 & 0\\\\\n",
    "0 & 0 & 1 & 0 \\\\\n",
    "\\end{bmatrix}\n",
    "$$\n",
    "$$\n",
    "p_1 = \n",
    "\\begin{bmatrix} \n",
    "-1 & 0\\\\\n",
    "1 & 0 \\\\\n",
    "0 & -1 \\\\\n",
    "0 & 1\n",
    "\\end{bmatrix}\n",
    "$$\n",
    "$$\n",
    "q_1 = \n",
    "\\begin{bmatrix} \n",
    "-1\\\\\n",
    "2 \\\\\n",
    "-1 \\\\\n",
    "2\n",
    "\\end{bmatrix}\n",
    "$$\n",
    "\n",
    "To ensure the inequality above would never hold for any $x_k$, we use big-M (a large number $M$ as a penalty for entering the obstacle) and binary variables $b_j^{obs} = \\{1, 0\\}$ for each obstacles. 1 if $x_k$ is outside obstacle j, and 0 if $x_k$ is inside. We also introduced $b_i^{hor}$ to keep track of obstacles we have passed horizontally (=1 if passed the obstacle, =0 if not yet pass) and a small buffer $\\epsilon > 0$ to ensure $x_k$ does not graze the obstacle:\n",
    "$$-p_j^{obs}Cx \\leq -q_j^{obs} + M(1 - b_j^{obs}) - \\epsilon + M\\sum^{k-1}_{i=0} b^{hor}_i$$"
   ]
  },
  {
   "cell_type": "code",
   "execution_count": 6,
   "metadata": {},
   "outputs": [],
   "source": [
    "# The obstacle constraints using MILP\n",
    "\n",
    "# Example\n",
    "# Obstacle Constraint for Obstacle 1: [1, 1] x [2, 2]\n",
    "# -p1*Cx[k] <= -q_1 + M(1 - b[k]) - epsilon\n",
    "# P1 = np.array([[-1, 0],\n",
    "#               [1, 0],\n",
    "#               [0, -1],\n",
    "#               [0, 1]])\n",
    "# Q1 = np.array([[-1],\n",
    "#                [2],\n",
    "#                [-1],\n",
    "#                [2]])\n",
    "\n",
    "# C = np.array([[1, 0, 0, 0],\n",
    "#               [0, 0, 1, 0]])\n",
    "\n",
    "# Obstacles\n",
    "obstacles = [\n",
    "    (np.array([[-1, 0],\n",
    "               [1, 0],\n",
    "               [0, -1],\n",
    "               [0, 1]]),\n",
    "     np.array([[-1],\n",
    "               [2],\n",
    "               [-1],\n",
    "               [2]])), # Obstacle 1\n",
    "\n",
    "    (np.array([[-1, 0],\n",
    "               [1, 0],\n",
    "               [0, -1],\n",
    "               [0, 1]]),\n",
    "     np.array([[-1],\n",
    "               [2],\n",
    "               [-3],\n",
    "               [5]])), # Obstacle 2\n",
    "\n",
    "    (np.array([[-1, 0],\n",
    "               [1, 0],\n",
    "               [0, -1],\n",
    "               [0, 1]]),\n",
    "     np.array([[-3],\n",
    "               [4],\n",
    "               [-1],\n",
    "               [2]])), # Obstacle 3\n",
    "\n",
    "    (np.array([[-1, 0],\n",
    "               [1, 0],\n",
    "               [0, -1],\n",
    "               [0, 1]]),\n",
    "     np.array([[-3],\n",
    "               [4],\n",
    "               [-2.5],\n",
    "               [3.5]])) # Obstacle 4\n",
    "]\n",
    "\n"
   ]
  },
  {
   "cell_type": "code",
   "execution_count": null,
   "metadata": {},
   "outputs": [],
   "source": [
    "N = 275  # Time horizon (Current best: 53)\n",
    "M = 1000  # Big-M constant\n",
    "epsilon = 0.1\n",
    "gamma = 0.1"
   ]
  },
  {
   "cell_type": "markdown",
   "metadata": {},
   "source": [
    "### Implementation with DOCPLEX\n",
    "\n",
    "Due to the limitation of DOCPLEX, I am unable to implement anything further with it."
   ]
  },
  {
   "cell_type": "code",
   "execution_count": 10,
   "metadata": {},
   "outputs": [],
   "source": [
    "# first import the Model class from docplex.mp\n",
    "from docplex.mp.model import Model"
   ]
  },
  {
   "cell_type": "code",
   "execution_count": 72,
   "metadata": {},
   "outputs": [],
   "source": [
    "# create one model instance, with a name\n",
    "milp_model = Model(name='Reach Avoid')"
   ]
  },
  {
   "cell_type": "code",
   "execution_count": 74,
   "metadata": {},
   "outputs": [],
   "source": [
    "# Decision variables\n",
    "# k represents time step k, i represents row of state/control vector\n",
    "\n",
    "# N = milp_model.integer_var(name=f\"{N} steps\") \n",
    "x = [\n",
    "        [milp_model.continuous_var(name=f\"x_{k}_{i}\") for i in range(4)]\n",
    "    for k in range(N+1)] # x[k][i] ith row of state vector x at k time step\n",
    "u = [   \n",
    "        [milp_model.continuous_var(name=f\"u_{k}_{i}\") for i in range(2)]\n",
    "    for k in range(N)] # u[k][i] ith row of control vector u at k time step\n",
    "\n",
    "w = [   \n",
    "        [milp_model.continuous_var(name=f\"w_{k}_{i}\", lb=0) for i in range(2)]\n",
    "    for k in range(N)] # This is same as u but the absolute value of it, taken from Schouwenaars paper\n",
    "\n",
    "b = [\n",
    "        [milp_model.binary_var(name=f\"b_{k}_{n}\")for n in range(4)]\n",
    "    for k in range(N)] # Test binary variable for the first obstacle, b[k][n] is the binary variable for the nth row of the obstacle avoidance constraint at timestep k\n",
    "\n",
    "# b = [\n",
    "#         [\n",
    "#             [milp_model.binary_var(name=f\"b_{k}_{j}_{n}\")]\n",
    "#         for j in range(4)]\n",
    "#     for k in range(N)] # b[k][j][n]\n",
    "\n",
    "# bh = {(k, j): milp_model.binary_var(name=f\"Horizon b_{k}_{j}\") for k in range(N) for j in range(len(unsafe_regions))}\n"
   ]
  },
  {
   "cell_type": "code",
   "execution_count": null,
   "metadata": {},
   "outputs": [],
   "source": [
    "# Initial state\n",
    "x_init = np.array([0.5, 0.5, 0.5, 0.5])\n",
    "for i in range(4):\n",
    "    milp_model.add_constraint(x[0][i] == x_init[i])\n",
    "\n",
    "for k in range(N):\n",
    "\n",
    "    # Dynamics constraints\n",
    "    for i in range(4):\n",
    "        milp_model.add_constraint(\n",
    "            x[k + 1][i] == sum(A[i, j] * x[k][j] for j in range(4)) \n",
    "                           + sum(B[i, j] * u[k][j] for j in range(2))\n",
    "        )\n",
    "        \n",
    "    # Control Constraints\n",
    "    for i in range(2):\n",
    "        milp_model.add_constraint(u[k][i] >= -1)\n",
    "        milp_model.add_constraint(u[k][i] <= 1)\n",
    "        milp_model.add_constraint(w[k][i] >= u[k][i])\n",
    "        milp_model.add_constraint(w[k][i] >= -u[k][i])\n",
    "\n",
    "    # Operational domain:\n",
    "    for i in range(4):\n",
    "        if i == 1 or i == 3:\n",
    "            milp_model.add_constraint(x[k][i] >= -1)\n",
    "            milp_model.add_constraint(x[k][i] <= 1)\n",
    "        milp_model.add_constraint(x[k][i] >= 0)\n",
    "        milp_model.add_constraint(x[k][i] <= 5)\n"
   ]
  },
  {
   "cell_type": "code",
   "execution_count": null,
   "metadata": {},
   "outputs": [],
   "source": [
    "for k in range(1, N):\n",
    "    # Obstacle avoidance constraints\n",
    "    x_pos = [x[k][0], x[k][2]]\n",
    "\n",
    "    for i in range(4):\n",
    "        lhs = -(P1[i, 0] * x_pos[0]+P1[i, 1] * x_pos[1])\n",
    "        rhs = -Q1[i, 0] + M * (1 - b[k][i]) - epsilon\n",
    "\n",
    "        milp_model.add_constraint(lhs <= rhs)\n",
    "        \n",
    "    milp_model.add_constraint(\n",
    "        sum(b[k][i] for i in range(4)) >= 1\n",
    "    )\n",
    "\n",
    "    # for j, region in enumerate(unsafe_regions):\n",
    "    #     lower, upper = region\n",
    "    #     milp_model.add_constraint(x[k, 0] <= lower[0] - epsilon + M * (1 - z[k, j]))\n",
    "    #     milp_model.add_constraint(x[k, 0] >= upper[0] + epsilon - M * z[k, j])\n",
    "    #     milp_model.add_constraint(x[k, 2] <= lower[2] - epsilon + M * (1 - z[k, j]))\n",
    "    #     milp_model.add_constraint(x[k, 2] >= upper[2] + epsilon - M * z[k, j])\n",
    "    # milp_model.add_constraint(sum(z[k, j] for j in range(len(unsafe_regions))) >= 1)\n"
   ]
  },
  {
   "cell_type": "code",
   "execution_count": null,
   "metadata": {},
   "outputs": [
    {
     "data": {
      "text/plain": [
       "docplex.mp.LinearConstraint[](x_40_3,LE,0.9)"
      ]
     },
     "execution_count": 77,
     "metadata": {},
     "output_type": "execute_result"
    }
   ],
   "source": [
    "# Target constraint\n",
    "milp_model.add_constraint(x[N][0] >= target_set[0][0])\n",
    "milp_model.add_constraint(x[N][0] <= target_set[1][0])\n",
    "milp_model.add_constraint(x[N][2] >= target_set[0][2])\n",
    "milp_model.add_constraint(x[N][2] <= target_set[1][2])\n",
    "\n",
    "# Target velocity constraint\n",
    "# milp_model.add_constraint(x[N][1] >= target_set[0][1])\n",
    "# milp_model.add_constraint(x[N][1] <= target_set[1][1])\n",
    "# milp_model.add_constraint(x[N][3] >= target_set[0][3])\n",
    "# milp_model.add_constraint(x[N][3] <= target_set[1][3])\n",
    "\n",
    "\n",
    "# milp_model.add_constraint(x[N][1] <= 1e-3)\n",
    "# milp_model.add_constraint(x[N][3] <= 1e-3)\n",
    "# Stay constraint (This could be shaped to that for all k > N, velocities of x and u are 0?)\n",
    "# milp_model.add_constraint(x[N + 1][0] >= target_set[0][0])\n",
    "# milp_model.add_constraint(x[N + 1][0] <= target_set[1][0])\n",
    "# milp_model.add_constraint(x[N + 1][2] >= target_set[0][2])\n",
    "# milp_model.add_constraint(x[N + 1][2] <= target_set[1][2])\n",
    "# for i in range(4):\n",
    "#     milp_model.add_constraint(\n",
    "#         x[N + 1][i] == sum(A[i, j] * x[N][j] for j in range(4))\n",
    "#         )\n",
    "# This doesn't work yet\n"
   ]
  },
  {
   "cell_type": "code",
   "execution_count": null,
   "metadata": {},
   "outputs": [],
   "source": [
    "# Objective: Minimize control effort\n",
    "obj_fn = sum((1 + gamma * w[k][i]) for k in range(N) for i in range(2))\n",
    "milp_model.set_objective('min', obj_fn)\n",
    "\n",
    "# Solve model\n",
    "solution = milp_model.solve()\n",
    "\n",
    "# Check solution\n",
    "if solution:\n",
    "    print(\"Solution found:\")\n",
    "    milp_model.print_solution()\n",
    "else:\n",
    "    print(\"No feasible solution found.\")"
   ]
  },
  {
   "cell_type": "code",
   "execution_count": 79,
   "metadata": {},
   "outputs": [
    {
     "name": "stdout",
     "output_type": "stream",
     "text": [
      "Model: Reach Avoid\n",
      " - number of variables: 484\n",
      "   - binary=160, integer=0, continuous=324\n",
      " - number of constraints: 972\n",
      "   - linear=972\n",
      " - parameters: defaults\n",
      " - objective: minimize\n",
      " - problem type is: MILP\n"
     ]
    }
   ],
   "source": [
    "milp_model.print_information()"
   ]
  },
  {
   "cell_type": "code",
   "execution_count": 80,
   "metadata": {},
   "outputs": [
    {
     "name": "stdout",
     "output_type": "stream",
     "text": [
      "3.9999999999999987 == 3.9999999999999987\n",
      "0.8945205479452051 == 0.8945205479452051\n",
      "3.9999999999999987 == 3.9999999999999987\n",
      "0.8945205479452051 == 0.8945205479452051\n"
     ]
    }
   ],
   "source": [
    "for i in range(4):\n",
    "    print(f\"{solution.get_value(x[40][i])} == {sum(A[i, j] * solution.get_value(x[39][j]) for j in range(4))+ sum(B[i, j] * solution.get_value(u[39][j]) for j in range(2))}\")\n",
    "\n",
    "                        "
   ]
  },
  {
   "cell_type": "code",
   "execution_count": 81,
   "metadata": {},
   "outputs": [
    {
     "data": {
      "image/png": "[encoded data removed]",
      "text/plain": [
       "<Figure size 700x700 with 1 Axes>"
      ]
     },
     "metadata": {},
     "output_type": "display_data"
    },
    {
     "data": {
      "image/png": "[encoded data removed]",
      "text/plain": [
       "<Figure size 1000x400 with 1 Axes>"
      ]
     },
     "metadata": {},
     "output_type": "display_data"
    }
   ],
   "source": [
    "# Extract trajectory\n",
    "trajectory = np.array([\n",
    "    [solution.get_value(x[k][i]) for i in range(4)]\n",
    "    for k in range(N + 1)\n",
    "])\n",
    "\n",
    "# Extract control inputs\n",
    "control_inputs = np.array([\n",
    "    [solution.get_value(u[k][i]) for i in range(2)]\n",
    "    for k in range(N)\n",
    "])\n",
    "\n",
    "# For the stay part, we can extend the trajectory?\n",
    "\n",
    "# ---- Plot Trajectory ----\n",
    "plt.figure(figsize=(7, 7))\n",
    "plt.plot(trajectory[:, 0], trajectory[:, 2], marker='o', label='Trajectory')\n",
    "plt.xlabel('X Position')\n",
    "plt.ylabel('Y Position')\n",
    "plt.title('State Trajectory')\n",
    "plt.grid(True)\n",
    "plt.legend()\n",
    "\n",
    "# Plot Obstacles\n",
    "for region in unsafe_regions:\n",
    "    lower, upper = region\n",
    "    bottom_left = [lower[0], lower[2]]\n",
    "    width = upper[0] - lower[0]\n",
    "    height = upper[2] - lower[2]\n",
    "    plt.gca().add_patch(plt.Rectangle(bottom_left, width, height, color='red', alpha=0.5))\n",
    "\n",
    "# Plot Target Set\n",
    "bottom_left = [target_set[0][0], target_set[0][2]]\n",
    "width = target_set[1][0] - target_set[0][0]\n",
    "height = target_set[1][2] - target_set[0][2]\n",
    "plt.gca().add_patch(plt.Rectangle(bottom_left, width, height, color='blue', alpha=0.5))\n",
    "\n",
    "plt.show()\n",
    "\n",
    "# ---- Plot Control Inputs ----\n",
    "plt.figure(figsize=(10, 4))\n",
    "plt.step(range(N), control_inputs[:, 0], label='u_x')\n",
    "plt.step(range(N), control_inputs[:, 1], label='u_y')\n",
    "plt.xlabel('Time step')\n",
    "plt.ylabel('Control input')\n",
    "plt.title('Control Inputs over Time')\n",
    "plt.grid(True)\n",
    "plt.legend()\n",
    "plt.show()"
   ]
  },
  {
   "cell_type": "markdown",
   "metadata": {},
   "source": [
    "### Implementation with GUROBI"
   ]
  },
  {
   "cell_type": "code",
   "execution_count": 9,
   "metadata": {},
   "outputs": [],
   "source": [
    "import gurobipy as gp\n",
    "from gurobipy import GRB"
   ]
  },
  {
   "cell_type": "code",
   "execution_count": 202,
   "metadata": {},
   "outputs": [],
   "source": [
    "milp_guro_model = gp.Model(\"ReachAvoidGurobi\")"
   ]
  },
  {
   "cell_type": "code",
   "execution_count": 203,
   "metadata": {},
   "outputs": [],
   "source": [
    "# Decision variables\n",
    "x = milp_guro_model.addVars(N + 1, 4, vtype=GRB.CONTINUOUS, name=\"x\")\n",
    "u = milp_guro_model.addVars(N, 2, lb=-1, ub=1, vtype=GRB.CONTINUOUS, name=\"u\")\n",
    "w = milp_guro_model.addVars(N, 2, lb=0, vtype=GRB.CONTINUOUS, name=\"w\")\n",
    "b = {}\n",
    "for obs_idx, (P, Q) in enumerate(obstacles):\n",
    "    for k in range(N):\n",
    "        for i in range(4):\n",
    "            b[k, obs_idx, i] = milp_guro_model.addVar(vtype=GRB.BINARY, name=f\"b_{k}_{obs_idx}_{i}\")\n",
    "\n",
    "# Extension 2.0\n",
    "# Adding a horizontal variable\n",
    "# b_hor = {}\n",
    "# for obs_idx, (P, Q) in enumerate(obstacles):\n",
    "#     for k in range(N):\n",
    "#         b_hor[k, obs_idx] = milp_guro_model.addVar(vtype=GRB.BINARY, name=f\"b_hor_{k}_{obs_idx}\")\n",
    "\n",
    "# Constraints\n",
    "# Initial state\n",
    "x_init = np.array([0.5, 0.5, 0.5, 0.5])\n",
    "for i in range(4):\n",
    "    milp_guro_model.addConstr(x[0, i] == x_init[i])\n",
    "\n",
    "# Dynamics constraints\n",
    "for k in range(N):\n",
    "    for i in range(4):\n",
    "        milp_guro_model.addConstr(\n",
    "            x[k + 1, i] == gp.quicksum(A[i, j] * x[k, j] for j in range(4)) +\n",
    "                          gp.quicksum(B[i, j] * u[k, j] for j in range(2))\n",
    "        )\n",
    "\n",
    "    # State constraints\n",
    "    milp_guro_model.addConstrs((x[k, i] >= 0 for i in range(4)))\n",
    "    milp_guro_model.addConstrs((x[k, i] <= 5 for i in range(4)))\n",
    "    milp_guro_model.addConstr(x[k, 1] >= -1)\n",
    "    milp_guro_model.addConstr(x[k, 1] <= 1)\n",
    "    milp_guro_model.addConstr(x[k, 3] >= -1)\n",
    "    milp_guro_model.addConstr(x[k, 3] <= 1)\n",
    "\n",
    "    # w absolute value constraint\n",
    "    for i in range(2):\n",
    "        milp_guro_model.addConstr(w[k, i] >= u[k, i])\n",
    "        milp_guro_model.addConstr(w[k, i] >= -u[k, i])\n",
    "\n",
    "# Obstacle avoidance\n",
    "for obs_idx, (P, Q) in enumerate(obstacles):\n",
    "    for k in range(1, N):\n",
    "        \n",
    "        # Horizontal pass condition (update rule)\n",
    "        # milp_guro_model.addConstr(x[k, 0] >= Q[1, 0] + epsilon - M * (1 - b_hor[k, obs_idx]))\n",
    "        # milp_guro_model.addConstr(x[k, 0] <= Q[1, 0] + M * b_hor[k, obs_idx])\n",
    "\n",
    "        for i in range(4):\n",
    "            lhs = -(P[i, 0] * x[k, 0] + P[i, 1] * x[k, 2])\n",
    "            rhs = -Q[i, 0] + M * (1 - b[k, obs_idx, i]) - epsilon #+ M * gp.quicksum(b_hor[t, obs_idx] for t in range(k))\n",
    "            milp_guro_model.addConstr(lhs <= rhs)\n",
    "        milp_guro_model.addConstr(gp.quicksum(b[k, obs_idx, i] for i in range(4)) >= 1)\n",
    "\n",
    "# for k in range(1, N):\n",
    "#     for i in range(4):\n",
    "#         lhs = -(P1[i, 0] * x[k, 0] + P1[i, 1] * x[k, 2])\n",
    "#         rhs = -Q1[i, 0] + M * (1 - b[k, i]) - epsilon\n",
    "#         milp_guro_model.addConstr(lhs <= rhs)\n",
    "#     milp_guro_model.addConstr(gp.quicksum(b[k, i] for i in range(4)) >= 1)\n",
    "\n"
   ]
  },
  {
   "cell_type": "code",
   "execution_count": 205,
   "metadata": {},
   "outputs": [
    {
     "data": {
      "text/plain": [
       "<gurobi.Constr *Awaiting Model Update*>"
      ]
     },
     "execution_count": 205,
     "metadata": {},
     "output_type": "execute_result"
    }
   ],
   "source": [
    "# Target constraint\n",
    "milp_guro_model.addConstr(x[N, 0] >= target_set[0][0])\n",
    "milp_guro_model.addConstr(x[N, 0] <= target_set[1][0])\n",
    "milp_guro_model.addConstr(x[N, 2] >= target_set[0][2])\n",
    "milp_guro_model.addConstr(x[N, 2] <= target_set[1][2])\n",
    "\n",
    "# Target velocity constraint\n",
    "milp_guro_model.addConstr(x[N, 1] >= target_set[0][1])\n",
    "milp_guro_model.addConstr(x[N, 1] <= target_set[1][1])\n",
    "milp_guro_model.addConstr(x[N, 3] >= target_set[0][3])\n",
    "milp_guro_model.addConstr(x[N, 3] >= target_set[1][3])\n"
   ]
  },
  {
   "cell_type": "code",
   "execution_count": 206,
   "metadata": {},
   "outputs": [
    {
     "name": "stdout",
     "output_type": "stream",
     "text": [
      "Statistics for model 'ReachAvoidGurobi':\n",
      "  Problem type                : MIP\n",
      "  Linear constraint matrix    : 10032 rows, 6028 columns, 20546 nonzeros\n",
      "  Variable types              : 2012 continuous, 4016 integer (4016 binary)\n",
      "  Matrix range                : [5e-03, 1e+03]\n",
      "  Objective range             : [1e-01, 1e-01]\n",
      "  Bounds range                : [1e+00, 1e+00]\n",
      "  RHS range                   : [1e-01, 1e+03]\n"
     ]
    }
   ],
   "source": [
    "# Objective: minimize control effort\n",
    "control_effort = gp.quicksum(1 + gamma * w[k, i] for k in range(N) for i in range(2))\n",
    "\n",
    "milp_guro_model.setObjective(control_effort, GRB.MINIMIZE)\n",
    "\n",
    "milp_guro_model.printStats()"
   ]
  },
  {
   "cell_type": "code",
   "execution_count": 207,
   "metadata": {},
   "outputs": [
    {
     "name": "stdout",
     "output_type": "stream",
     "text": [
      "Set parameter OutputFlag to value 1\n",
      "Gurobi Optimizer version 12.0.1 build v12.0.1rc0 (win64 - Windows 11.0 (26100.2))\n",
      "\n",
      "CPU model: 11th Gen Intel(R) Core(TM) i7-11800H @ 2.30GHz, instruction set [SSE2|AVX|AVX2|AVX512]\n",
      "Thread count: 8 physical cores, 16 logical processors, using up to 16 threads\n",
      "\n",
      "Optimize a model with 10032 rows, 6028 columns and 20546 nonzeros\n",
      "Model fingerprint: 0x34561aae\n",
      "Variable types: 2012 continuous, 4016 integer (4016 binary)\n",
      "Coefficient statistics:\n",
      "  Matrix range     [5e-03, 1e+03]\n",
      "  Objective range  [1e-01, 1e-01]\n",
      "  Bounds range     [1e+00, 1e+00]\n",
      "  RHS range        [1e-01, 1e+03]\n",
      "Presolve removed 4672 rows and 1522 columns\n",
      "Presolve time: 0.05s\n",
      "Presolved: 5360 rows, 4506 columns, 14457 nonzeros\n",
      "Variable types: 1468 continuous, 3038 integer (3038 binary)\n",
      "Found heuristic solution: objective 503.8779661\n",
      "\n",
      "Root relaxation: objective 5.027228e+02, 3745 iterations, 0.06 seconds (0.11 work units)\n",
      "\n",
      "    Nodes    |    Current Node    |     Objective Bounds      |     Work\n",
      " Expl Unexpl |  Obj  Depth IntInf | Incumbent    BestBd   Gap | It/Node Time\n",
      "\n",
      "     0     0  502.72283    0  316  503.87797  502.72283  0.23%     -    0s\n",
      "     0     0  502.72283    0  265  503.87797  502.72283  0.23%     -    0s\n",
      "     0     0  502.72283    0  337  503.87797  502.72283  0.23%     -    0s\n",
      "     0     0  502.72283    0  169  503.87797  502.72283  0.23%     -    0s\n",
      "     0     0  502.72283    0  152  503.87797  502.72283  0.23%     -    0s\n",
      "     0     0  502.72283    0  132  503.87797  502.72283  0.23%     -    0s\n",
      "     0     0  502.72283    0  130  503.87797  502.72283  0.23%     -    0s\n",
      "     0     0  502.72283    0  131  503.87797  502.72283  0.23%     -    0s\n",
      "     0     0  502.72283    0  131  503.87797  502.72283  0.23%     -    3s\n",
      "     0     2  502.72283    0  131  503.87797  502.72283  0.23%     -    3s\n",
      "H  127   144                     503.8378848  502.72283  0.22%  67.6    3s\n",
      "H  176   175                     503.8111280  502.72283  0.22%  65.3    3s\n",
      "H  207   226                     503.7292865  502.72283  0.20%  59.8    3s\n",
      "H  208   226                     503.0669299  502.72283  0.07%  59.7    3s\n",
      "H  316   287                     503.0414181  502.72283  0.06%  50.2    4s\n",
      "  1290   793  502.85911   94  320  503.04142  502.72283  0.06%  37.3    5s\n",
      "H 1631   886                     503.0353616  502.73908  0.06%  47.6    5s\n",
      "* 1772   479              33     502.9362282  502.73908  0.04%  47.4    5s\n",
      "* 3986   470              21     502.9336342  502.84675  0.02%  55.7    7s\n",
      "* 3988   416              22     502.9244967  502.84675  0.02%  55.8    7s\n",
      "* 3989   415              22     502.9242741  502.84675  0.02%  55.8    7s\n",
      "* 4262   467              31     502.9224988  502.85176  0.01%  56.7    7s\n",
      "* 4457   421              24     502.9214905  502.85866  0.01%  57.7    7s\n",
      "* 4574   421              26     502.9208666  502.85866  0.01%  59.3    7s\n",
      "* 4704   421              25     502.9194405  502.85911  0.01%  58.8    7s\n",
      "* 4819   421              26     502.9183136  502.86263  0.01%  58.7    7s\n",
      "* 4928   351              24     502.9159316  502.86263  0.01%  58.4    8s\n",
      "* 5023   351              22     502.9142357  502.86338  0.01%  57.9    8s\n",
      "* 5072   351              26     502.9136661  502.86338  0.01%  57.8    8s\n",
      "\n",
      "Cutting planes:\n",
      "  Learned: 38\n",
      "  Gomory: 42\n",
      "  Cover: 1124\n",
      "  Implied bound: 121\n",
      "  Clique: 506\n",
      "  MIR: 88\n",
      "  StrongCG: 1\n",
      "  Zero half: 1\n",
      "  RLT: 2\n",
      "  Relax-and-lift: 1\n",
      "\n",
      "Explored 5204 nodes (307935 simplex iterations) in 8.22 seconds (12.60 work units)\n",
      "Thread count was 16 (of 16 available processors)\n",
      "\n",
      "Solution count 10: 502.914 502.914 502.916 ... 502.924\n",
      "\n",
      "Optimal solution found (tolerance 1.00e-04)\n",
      "Best objective 5.029136660901e+02, best bound 5.028715390130e+02, gap 0.0084%\n"
     ]
    }
   ],
   "source": [
    "# Solve\n",
    "milp_guro_model.Params.OutputFlag = 1\n",
    "milp_guro_model.optimize()"
   ]
  },
  {
   "cell_type": "code",
   "execution_count": 208,
   "metadata": {},
   "outputs": [],
   "source": [
    "milp_guro_model.write(\"solution.sol\")"
   ]
  },
  {
   "cell_type": "code",
   "execution_count": 209,
   "metadata": {},
   "outputs": [
    {
     "data": {
      "image/png": "[encoded data removed]",
      "text/plain": [
       "<Figure size 640x480 with 1 Axes>"
      ]
     },
     "metadata": {},
     "output_type": "display_data"
    },
    {
     "data": {
      "image/png": "[encoded data removed]",
      "text/plain": [
       "<Figure size 1000x400 with 1 Axes>"
      ]
     },
     "metadata": {},
     "output_type": "display_data"
    },
    {
     "data": {
      "image/png": "[encoded data removed]",
      "text/plain": [
       "<Figure size 1000x400 with 1 Axes>"
      ]
     },
     "metadata": {},
     "output_type": "display_data"
    }
   ],
   "source": [
    "# Extract and plot solution\n",
    "if milp_guro_model.Status == GRB.OPTIMAL:\n",
    "\n",
    "    # Plot Obstacles\n",
    "    for region in unsafe_regions:\n",
    "        lower, upper = region\n",
    "        bottom_left = [lower[0], lower[2]]\n",
    "        width = upper[0] - lower[0]\n",
    "        height = upper[2] - lower[2]\n",
    "        plt.gca().add_patch(plt.Rectangle(bottom_left, width, height, color='red', alpha=0.5))\n",
    "\n",
    "    # Plot Target Set\n",
    "    bottom_left = [target_set[0][0], target_set[0][2]]\n",
    "    width = target_set[1][0] - target_set[0][0]\n",
    "    height = target_set[1][2] - target_set[0][2]\n",
    "    plt.gca().add_patch(plt.Rectangle(bottom_left, width, height, color='blue', alpha=0.5))\n",
    "\n",
    "    # Extract Trajectory\n",
    "    traj = np.array(\n",
    "        [[x[k, i].X for i in range(4)] \n",
    "         for k in range(N + 1)])\n",
    "\n",
    "    plt.plot(traj[:, 0], traj[:, 2], marker='o')\n",
    "    plt.title(\"Trajectory (Gurobi)\")\n",
    "    plt.xlabel(\"X\")\n",
    "    plt.ylabel(\"Y\")\n",
    "    plt.grid(True)\n",
    "    plt.show()\n",
    "\n",
    "    # Extract control inputs\n",
    "    control_inputs = np.array([\n",
    "        [u[k, i].X for i in range(2)]\n",
    "        for k in range(N)])\n",
    "    \n",
    "    # ---- Plot Control Inputs ----\n",
    "    plt.figure(figsize=(10, 4))\n",
    "    plt.step(range(N), control_inputs[:, 0], label='u_x')\n",
    "    plt.step(range(N), control_inputs[:, 1], label='u_y')\n",
    "    plt.xlabel('Time step')\n",
    "    plt.ylabel('Control input')\n",
    "    plt.title('Control Inputs over Time')\n",
    "    plt.grid(True)\n",
    "    plt.legend()\n",
    "    plt.show()\n",
    "\n",
    "    # ---- Plot Velocity over time steps ----\n",
    "    plt.figure(figsize=(10, 4))\n",
    "    plt.plot(range(N + 1), traj[:, 1], label='v_x', marker='o')\n",
    "    plt.plot(range(N + 1), traj[:, 3], label='v_y', marker='o')\n",
    "    plt.xlabel(\"Time Step\")\n",
    "    plt.ylabel(\"Velocity\")\n",
    "    plt.title(\"State Velocities over Time\")\n",
    "    plt.grid(True)\n",
    "    plt.legend()\n",
    "\n",
    "    \n",
    "else:\n",
    "    print(\"No feasible solution found.\")"
   ]
  },
  {
   "cell_type": "markdown",
   "metadata": {},
   "source": [
    "## References\n",
    "-   Afonso RJM, Maximo MROA, Galvão RKH. Task allocation and trajectory planning for multiple agents in the presence of obstacle and connectivity constraints with mixed-integer linear programming. Int J Robust Nonlinear Control. 2020; 30: 5464–5491. https://doi.org/10.1002/rnc.5092\n",
    "\n",
    "-   SchouwenaarsT, MoorDB, FeronE, HowJP. Mixed integer programming for multi-vehicle path planning. Paper presented at: Proceedings of the 2001 European Control Conference (ECC). Proceedings of the European Control Conference (ECC); 2001:2603-2608; Porto, Portugal. "
   ]
  }
 ],
 "metadata": {
  "kernelspec": {
   "display_name": "Python 3",
   "language": "python",
   "name": "python3"
  },
  "language_info": {
   "codemirror_mode": {
    "name": "ipython",
    "version": 3
   },
   "file_extension": ".py",
   "mimetype": "text/x-python",
   "name": "python",
   "nbconvert_exporter": "python",
   "pygments_lexer": "ipython3",
   "version": "3.10.7"
  }
 },
 "nbformat": 4,
 "nbformat_minor": 2
}
