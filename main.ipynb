{
 "cells": [
  {
   "cell_type": "code",
   "execution_count": 15,
   "metadata": {},
   "outputs": [],
   "source": [
    "import numpy as np\n",
    "import matplotlib.pyplot as plt"
   ]
  },
  {
   "cell_type": "markdown",
   "metadata": {},
   "source": [
    "## Define Parameters"
   ]
  },
  {
   "cell_type": "code",
   "execution_count": 17,
   "metadata": {},
   "outputs": [],
   "source": [
    "# Define system matrices\n",
    "tau = 0.1\n",
    "A = np.array([[1, tau, 0, 0], \n",
    "              [0, 1, 0, 0],\n",
    "              [0, 0, 1, tau],\n",
    "              [0, 0, 0, 1]])  \n",
    "B = np.array([[0.5 * tau ** 2, 0],\n",
    "              [tau, 0],\n",
    "              [0, 0.5 * tau ** 2],\n",
    "              [0, tau]])  \n"
   ]
  },
  {
   "cell_type": "code",
   "execution_count": 18,
   "metadata": {},
   "outputs": [],
   "source": [
    "# Define operational domain\n",
    "x_limits = [0, 5]\n",
    "y_limits = [0, 5]\n",
    "vel_limits = [-1, 1]\n",
    "\n",
    "# Define unsafe regions (obstacles)\n",
    "unsafe_regions = [\n",
    "    [[1, -1, 1, -1], [2, 1, 2, 1]],\n",
    "    [[1, -1, 3, -1], [2, 1, 5, 1]],\n",
    "    [[3, -1, 1, -1], [4, 1, 2, 1]],\n",
    "    [[3, -1, 2.5, -1], [4, 1, 3.5, 1]]\n",
    "]\n",
    "\n",
    "# Define target set\n",
    "target_set = [[4, -0.1, 4, -0.1], [5, 0.1, 5, 0.1]]"
   ]
  },
  {
   "cell_type": "code",
   "execution_count": 19,
   "metadata": {},
   "outputs": [
    {
     "data": {
      "image/png": "[encoded data removed]",
      "text/plain": [
       "<Figure size 700x700 with 1 Axes>"
      ]
     },
     "metadata": {},
     "output_type": "display_data"
    }
   ],
   "source": [
    "# Parameters\n",
    "tend = 50\n",
    "\n",
    "# Initialization\n",
    "x_init = np.array([0.5, 0.5, 0.5, 0.5])  # Initial position and velocity\n",
    "u_init = np.array([0, 0])\n",
    "trajectory = [x_init]\n",
    "input = [u_init]\n",
    "\n",
    "for k in range(tend):\n",
    "    x_next = A @ trajectory[-1] + B @ input[-1] \n",
    "    trajectory.append(x_next)\n",
    "\n",
    "trajectory = np.array(trajectory)\n",
    "\n",
    "# Plot trajectory of x over time\n",
    "fig, ax = plt.subplots(figsize=(7, 7))\n",
    "ax.set_xlim(x_limits)\n",
    "ax.set_ylim(y_limits)\n",
    "ax.set_xlabel(\"X Position\")\n",
    "ax.set_ylabel(\"Y Position\")\n",
    "ax.set_title(\"Discrete-Time Linear System State Plot\")\n",
    "\n",
    "ax.plot(trajectory[:, 0], trajectory[:, 2], marker=\"o\", linestyle=\"-\", label=\"Trajectory\")\n",
    "\n",
    "# Plot obstacles and target set\n",
    "for region in unsafe_regions:\n",
    "    bottom_left = [region[0][0], region[0][2]]\n",
    "    width = region[1][0] - region[0][0]\n",
    "    height = region[1][2] - region[0][2]\n",
    "    ax.add_patch(plt.Rectangle(bottom_left, width, height, color='red', alpha=0.5, label=\"Obstacle\"))\n",
    "\n",
    "bottom_left = [target_set[0][0], target_set[0][2]]\n",
    "width = target_set[1][0] - target_set[0][0]\n",
    "height = target_set[1][2] - target_set[0][2]\n",
    "ax.add_patch(plt.Rectangle(bottom_left, width, height, color='blue', alpha=0.5, label=\"Target\"))\n",
    "\n",
    "ax.legend([\"Trajectory\",\"Obstacle\",\"Target\"])\n",
    "plt.grid(True)\n",
    "plt.show()"
   ]
  },
  {
   "cell_type": "markdown",
   "metadata": {},
   "source": [
    "## Helper Functions"
   ]
  },
  {
   "cell_type": "code",
   "execution_count": 20,
   "metadata": {},
   "outputs": [
    {
     "name": "stdout",
     "output_type": "stream",
     "text": [
      "State 1: [0.5 0.5 0.5 0.5]\n",
      "  - Out of bounds: False\n",
      "  - Inside obstacle: False\n",
      "  - Illegal state: False\n",
      "  - Distance to target: 5.66\n",
      "\n",
      "State 2: [5.1 0.  4.  0. ]\n",
      "  - Out of bounds: True\n",
      "  - Inside obstacle: False\n",
      "  - Illegal state: True\n",
      "  - Distance to target: 0.78\n",
      "\n",
      "State 3: [1.5 0.  1.5 0. ]\n",
      "  - Out of bounds: False\n",
      "  - Inside obstacle: True\n",
      "  - Illegal state: True\n",
      "  - Distance to target: 4.24\n",
      "\n",
      "State 4: [4.5 0.  4.5 0. ]\n",
      "  - Out of bounds: False\n",
      "  - Inside obstacle: False\n",
      "  - Illegal state: False\n",
      "  - Distance to target: 0.00\n",
      "\n"
     ]
    }
   ],
   "source": [
    "def is_out_of_bounds(state):\n",
    "    \"\"\"Check if the state is out of the allowed operational domain.\"\"\"\n",
    "    x, vx, y, vy = state\n",
    "    if not (x_limits[0] <= x <= x_limits[1]):\n",
    "        return True\n",
    "    if not (y_limits[0] <= y <= y_limits[1]):\n",
    "        return True\n",
    "    if not (vel_limits[0] <= vx <= vel_limits[1]):\n",
    "        return True\n",
    "    if not (vel_limits[0] <= vy <= vel_limits[1]):\n",
    "        return True\n",
    "    return False\n",
    "\n",
    "def is_inside_obstacle(state):\n",
    "    \"\"\"Check if the state is inside any of the obstacles.\"\"\"\n",
    "    x, _, y, _ = state  # We only care about position\n",
    "    for lower, upper in unsafe_regions:\n",
    "        if lower[0] <= x <= upper[0] and lower[2] <= y <= upper[2]:\n",
    "            return True  # Inside an obstacle\n",
    "    return False\n",
    "\n",
    "def is_illegal_state(state):\n",
    "    \"\"\"Determine if the state is illegal (out of bounds or inside an obstacle).\"\"\"\n",
    "    return is_out_of_bounds(state) or is_inside_obstacle(state)\n",
    "\n",
    "def distance_to_target(state):\n",
    "    \"\"\"Compute the Euclidean distance from the state to the center of the target set.\"\"\"\n",
    "    position = np.array([state[0], state[2]])  # Extract x and y positions\n",
    "    target_position = np.array([4.5, 4.5])\n",
    "    return np.linalg.norm(position - target_position)\n",
    "\n",
    "# Example test cases\n",
    "test_states = [\n",
    "    np.array([0.5, 0.5, 0.5, 0.5]),  # Valid\n",
    "    np.array([5.1, 0, 4, 0]),  # Out of bounds (x)\n",
    "    np.array([1.5, 0, 1.5, 0]),  # Inside an obstacle\n",
    "    np.array([4.5, 0, 4.5, 0]),  # Target set center\n",
    "]\n",
    "\n",
    "# Run tests\n",
    "for i, state in enumerate(test_states):\n",
    "    print(f\"State {i+1}: {state}\")\n",
    "    print(f\"  - Out of bounds: {is_out_of_bounds(state)}\")\n",
    "    print(f\"  - Inside obstacle: {is_inside_obstacle(state)}\")\n",
    "    print(f\"  - Illegal state: {is_illegal_state(state)}\")\n",
    "    print(f\"  - Distance to target: {distance_to_target(state):.2f}\")\n",
    "    print()\n",
    "\n",
    "\n",
    "# functions to compare two x_k+1 see which is closer to the target zone"
   ]
  },
  {
   "cell_type": "markdown",
   "metadata": {},
   "source": [
    "## Method 1. Mixed Integer Linear Programming\n",
    "\n",
    "Start with Problem Formation:\n",
    "\n",
    "Define $N$ as the horizontal variable (time to reach the terminal set), which we will optimize, $\\gamma$ as our choice of weight which we may use to balance our cost of control and terminal time.\n",
    "$$\\begin{equation} min N + \\gamma\\sum^n_{k=0}||u_k|| \\end{equation}$$\n",
    "$s.t.$\n",
    "$$\\begin{equation}\\tag{IC}  x_0 = x_{init} \\end{equation}$$\n",
    "$$\\begin{equation}\\tag{DE}  x_{k+1} = Ax_k+Bu_k\\end{equation}$$\n",
    "$$\\begin{equation}\\tag{BC1}  x_{k+1} \\in \\mathcal{X} \\end{equation}$$\n",
    "$$\\begin{equation}\\tag{BC2}  u_k \\in \\mathcal{U} \\end{equation}$$\n",
    "$$\\begin{equation}\\tag{Obstacle Condition}  x_{k+1} \\notin \\mathcal{X}_U^j, 1 \\leq j \\leq N_o \\end{equation}$$\n",
    "$$\\begin{equation}\\tag{Target Condition}  x_{k+1} \\in \\mathcal{X}_T \\end{equation}$$\n",
    "\n",
    "Where\n",
    "$$0\\leq k \\leq N $$\n",
    "$$ A = \n",
    "\\begin{bmatrix} \n",
    "1 & \\tau & 0 & 0\\\\\n",
    "0 & 1 & 0 & 0 \\\\\n",
    "0 & 0 & 1 & \\tau \\\\\n",
    "0 & 0 & 0 & 1\n",
    "\\end{bmatrix},\n",
    "B = \n",
    "\\begin{bmatrix} \n",
    "0.5\\tau^2 & 0\\\\\n",
    "\\tau & 0 \\\\\n",
    "0 & 0.5\\tau^2 \\\\\n",
    "0 & \\tau\n",
    "\\end{bmatrix}\n",
    "$$\n",
    "\n",
    "One way of formulating the inequalities so it becomes a MPC-MILP (Model Predictive Control Mixed Integer Linear Programming) and can be solved using the algorithms presented in Schouwenaars et al (2001), is to use binary variables.\n",
    "\n",
    "Consider the obstacles set as the intersection of 4 half planes:\n",
    "$$\\mathcal{X}^j_U = \\{p_jCx \\leq q_j\\}$$\n",
    "where $p_j$ denotes the constant matrix in the left hand side of the half-plane inequalities defining obstacle $\\mathcal{X}^j_U$, and $q_j$ denotes the right hand side of the half plane inequalities, $C$ denotes the matrix that extracts position information from the state vector $x$.\n",
    "\n",
    "E.g. $\\mathcal{X}^1_U$, defined by the lower left extreme [1, 1] and upper right extreme [2, 2] can be represented as:\n",
    "$$\n",
    "\\mathcal{X}^1_U = \\{p_1Cx \\leq q_1 \\}\n",
    "$$\n",
    "where\n",
    "$$ C= \n",
    "\\begin{bmatrix} \n",
    "1 & 0 & 0 & 0\\\\\n",
    "0 & 0 & 1 & 0 \\\\\n",
    "\\end{bmatrix}\n",
    "$$\n",
    "$$\n",
    "p_1 = \n",
    "\\begin{bmatrix} \n",
    "-1 & 0\\\\\n",
    "1 & 0 \\\\\n",
    "0 & -1 \\\\\n",
    "0 & 1\n",
    "\\end{bmatrix}\n",
    "$$\n",
    "$$\n",
    "q_1 = \n",
    "\\begin{bmatrix} \n",
    "-1\\\\\n",
    "2 \\\\\n",
    "-1 \\\\\n",
    "2\n",
    "\\end{bmatrix}\n",
    "$$\n",
    "\n",
    "To ensure the inequality above would never hold for any $x_k$, we use big-M (a large number $M$ as a penalty for entering the obstacle) and binary variables $b_j^{obs} = \\{1, 0\\}$ for each obstacles. 1 if $x_k$ is outside obstacle j, and 0 if $x_k$ is inside. We also introduced $b_i^{hor}$ to keep track of obstacles we have passed horizontally (=1 if passed the obstacle, =0 if not yet pass) and a small buffer $\\epsilon > 0$ to ensure $x_k$ does not graze the obstacle:\n",
    "$$-p_j^{obs}Cx \\leq -q_j^{obs} + M(1 - b_j^{obs}) - \\epsilon + M\\sum^{k-1}_{i=0} b^{hor}_i$$"
   ]
  },
  {
   "cell_type": "code",
   "execution_count": 125,
   "metadata": {},
   "outputs": [],
   "source": [
    "# The obstacle constraints using MILP\n",
    "\n",
    "# Example\n",
    "# Obstacle Constraint for Obstacle 1: [1, 1] x [2, 2]\n",
    "# -p1*Cx[k] <= -q_1 + M(1 - b[k]) - epsilon\n",
    "# P1 = np.array([[-1, 0],\n",
    "#               [1, 0],\n",
    "#               [0, -1],\n",
    "#               [0, 1]])\n",
    "# Q1 = np.array([[-1],\n",
    "#                [2],\n",
    "#                [-1],\n",
    "#                [2]])\n",
    "\n",
    "# C = np.array([[1, 0, 0, 0],\n",
    "#               [0, 0, 1, 0]])\n",
    "\n",
    "# Obstacles\n",
    "obstacles = [\n",
    "    (np.array([[-1, 0],\n",
    "               [1, 0],\n",
    "               [0, -1],\n",
    "               [0, 1]]),\n",
    "     np.array([[-1],\n",
    "               [2],\n",
    "               [-1],\n",
    "               [2]])), # Obstacle 1\n",
    "\n",
    "    (np.array([[-1, 0],\n",
    "               [1, 0],\n",
    "               [0, -1],\n",
    "               [0, 1]]),\n",
    "     np.array([[-1],\n",
    "               [2],\n",
    "               [-3],\n",
    "               [5]])), # Obstacle 2\n",
    "\n",
    "    (np.array([[-1, 0],\n",
    "               [1, 0],\n",
    "               [0, -1],\n",
    "               [0, 1]]),\n",
    "     np.array([[-3],\n",
    "               [4],\n",
    "               [-1],\n",
    "               [2]])), # Obstacle 3\n",
    "\n",
    "    (np.array([[-1, 0],\n",
    "               [1, 0],\n",
    "               [0, -1],\n",
    "               [0, 1]]),\n",
    "     np.array([[-3],\n",
    "               [4],\n",
    "               [-2.5],\n",
    "               [3.5]])) # Obstacle 4\n",
    "]\n",
    "\n"
   ]
  },
  {
   "cell_type": "code",
   "execution_count": 140,
   "metadata": {},
   "outputs": [],
   "source": [
    "N = 700  # Time horizon\n",
    "M = 1000  # Big-M constant\n",
    "epsilon = 0.1\n",
    "gamma = 0.1"
   ]
  },
  {
   "cell_type": "markdown",
   "metadata": {},
   "source": [
    "### Implementation with DOCPLEX"
   ]
  },
  {
   "cell_type": "code",
   "execution_count": 10,
   "metadata": {},
   "outputs": [],
   "source": [
    "# first import the Model class from docplex.mp\n",
    "from docplex.mp.model import Model"
   ]
  },
  {
   "cell_type": "code",
   "execution_count": 72,
   "metadata": {},
   "outputs": [],
   "source": [
    "# create one model instance, with a name\n",
    "milp_model = Model(name='Reach Avoid')"
   ]
  },
  {
   "cell_type": "code",
   "execution_count": 74,
   "metadata": {},
   "outputs": [],
   "source": [
    "# Decision variables\n",
    "# k represents time step k, i represents row of state/control vector\n",
    "\n",
    "# N = milp_model.integer_var(name=f\"{N} steps\") \n",
    "x = [\n",
    "        [milp_model.continuous_var(name=f\"x_{k}_{i}\") for i in range(4)]\n",
    "    for k in range(N+1)] # x[k][i] ith row of state vector x at k time step\n",
    "u = [   \n",
    "        [milp_model.continuous_var(name=f\"u_{k}_{i}\") for i in range(2)]\n",
    "    for k in range(N)] # u[k][i] ith row of control vector u at k time step\n",
    "\n",
    "w = [   \n",
    "        [milp_model.continuous_var(name=f\"w_{k}_{i}\", lb=0) for i in range(2)]\n",
    "    for k in range(N)] # This is same as u but the absolute value of it, taken from Schouwenaars paper\n",
    "\n",
    "b = [\n",
    "        [milp_model.binary_var(name=f\"b_{k}_{n}\")for n in range(4)]\n",
    "    for k in range(N)] # Test binary variable for the first obstacle, b[k][n] is the binary variable for the nth row of the obstacle avoidance constraint at timestep k\n",
    "\n",
    "# b = [\n",
    "#         [\n",
    "#             [milp_model.binary_var(name=f\"b_{k}_{j}_{n}\")]\n",
    "#         for j in range(4)]\n",
    "#     for k in range(N)] # b[k][j][n]\n",
    "\n",
    "# bh = {(k, j): milp_model.binary_var(name=f\"Horizon b_{k}_{j}\") for k in range(N) for j in range(len(unsafe_regions))}\n"
   ]
  },
  {
   "cell_type": "code",
   "execution_count": null,
   "metadata": {},
   "outputs": [],
   "source": [
    "# Initial state\n",
    "x_init = np.array([0.5, 0.5, 0.5, 0.5])\n",
    "for i in range(4):\n",
    "    milp_model.add_constraint(x[0][i] == x_init[i])\n",
    "\n",
    "for k in range(N):\n",
    "\n",
    "    # Dynamics constraints\n",
    "    for i in range(4):\n",
    "        milp_model.add_constraint(\n",
    "            x[k + 1][i] == sum(A[i, j] * x[k][j] for j in range(4)) \n",
    "                           + sum(B[i, j] * u[k][j] for j in range(2))\n",
    "        )\n",
    "        \n",
    "    # Control Constraints\n",
    "    for i in range(2):\n",
    "        milp_model.add_constraint(u[k][i] >= -1)\n",
    "        milp_model.add_constraint(u[k][i] <= 1)\n",
    "        milp_model.add_constraint(w[k][i] >= u[k][i])\n",
    "        milp_model.add_constraint(w[k][i] >= -u[k][i])\n",
    "\n",
    "    # Operational domain:\n",
    "    for i in range(4):\n",
    "        if i == 1 or i == 3:\n",
    "            milp_model.add_constraint(x[k][i] >= -1)\n",
    "            milp_model.add_constraint(x[k][i] <= 1)\n",
    "        milp_model.add_constraint(x[k][i] >= 0)\n",
    "        milp_model.add_constraint(x[k][i] <= 5)\n"
   ]
  },
  {
   "cell_type": "code",
   "execution_count": null,
   "metadata": {},
   "outputs": [],
   "source": [
    "for k in range(1, N):\n",
    "    # Obstacle avoidance constraints\n",
    "    x_pos = [x[k][0], x[k][2]]\n",
    "\n",
    "    for i in range(4):\n",
    "        lhs = -(P1[i, 0] * x_pos[0]+P1[i, 1] * x_pos[1])\n",
    "        rhs = -Q1[i, 0] + M * (1 - b[k][i]) - epsilon\n",
    "\n",
    "        milp_model.add_constraint(lhs <= rhs)\n",
    "        \n",
    "    milp_model.add_constraint(\n",
    "        sum(b[k][i] for i in range(4)) >= 1\n",
    "    )\n",
    "\n",
    "    # for j, region in enumerate(unsafe_regions):\n",
    "    #     lower, upper = region\n",
    "    #     milp_model.add_constraint(x[k, 0] <= lower[0] - epsilon + M * (1 - z[k, j]))\n",
    "    #     milp_model.add_constraint(x[k, 0] >= upper[0] + epsilon - M * z[k, j])\n",
    "    #     milp_model.add_constraint(x[k, 2] <= lower[2] - epsilon + M * (1 - z[k, j]))\n",
    "    #     milp_model.add_constraint(x[k, 2] >= upper[2] + epsilon - M * z[k, j])\n",
    "    # milp_model.add_constraint(sum(z[k, j] for j in range(len(unsafe_regions))) >= 1)\n"
   ]
  },
  {
   "cell_type": "code",
   "execution_count": null,
   "metadata": {},
   "outputs": [
    {
     "data": {
      "text/plain": [
       "docplex.mp.LinearConstraint[](x_40_3,LE,0.9)"
      ]
     },
     "execution_count": 77,
     "metadata": {},
     "output_type": "execute_result"
    }
   ],
   "source": [
    "# Target constraint\n",
    "milp_model.add_constraint(x[N][0] >= target_set[0][0])\n",
    "milp_model.add_constraint(x[N][0] <= target_set[1][0])\n",
    "milp_model.add_constraint(x[N][2] >= target_set[0][2])\n",
    "milp_model.add_constraint(x[N][2] <= target_set[1][2])\n",
    "\n",
    "# Target velocity constraint\n",
    "# milp_model.add_constraint(x[N][1] >= target_set[0][1])\n",
    "# milp_model.add_constraint(x[N][1] <= target_set[1][1])\n",
    "# milp_model.add_constraint(x[N][3] >= target_set[0][3])\n",
    "# milp_model.add_constraint(x[N][3] <= target_set[1][3])\n",
    "\n",
    "\n",
    "# milp_model.add_constraint(x[N][1] <= 1e-3)\n",
    "# milp_model.add_constraint(x[N][3] <= 1e-3)\n",
    "# Stay constraint (This could be shaped to that for all k > N, velocities of x and u are 0?)\n",
    "# milp_model.add_constraint(x[N + 1][0] >= target_set[0][0])\n",
    "# milp_model.add_constraint(x[N + 1][0] <= target_set[1][0])\n",
    "# milp_model.add_constraint(x[N + 1][2] >= target_set[0][2])\n",
    "# milp_model.add_constraint(x[N + 1][2] <= target_set[1][2])\n",
    "# for i in range(4):\n",
    "#     milp_model.add_constraint(\n",
    "#         x[N + 1][i] == sum(A[i, j] * x[N][j] for j in range(4))\n",
    "#         )\n",
    "# This doesn't work yet\n"
   ]
  },
  {
   "cell_type": "code",
   "execution_count": null,
   "metadata": {},
   "outputs": [],
   "source": [
    "# Objective: Minimize control effort\n",
    "obj_fn = sum((1 + gamma * w[k][i]) for k in range(N) for i in range(2))\n",
    "milp_model.set_objective('min', obj_fn)\n",
    "\n",
    "# Solve model\n",
    "solution = milp_model.solve()\n",
    "\n",
    "# Check solution\n",
    "if solution:\n",
    "    print(\"Solution found:\")\n",
    "    milp_model.print_solution()\n",
    "else:\n",
    "    print(\"No feasible solution found.\")"
   ]
  },
  {
   "cell_type": "code",
   "execution_count": 79,
   "metadata": {},
   "outputs": [
    {
     "name": "stdout",
     "output_type": "stream",
     "text": [
      "Model: Reach Avoid\n",
      " - number of variables: 484\n",
      "   - binary=160, integer=0, continuous=324\n",
      " - number of constraints: 972\n",
      "   - linear=972\n",
      " - parameters: defaults\n",
      " - objective: minimize\n",
      " - problem type is: MILP\n"
     ]
    }
   ],
   "source": [
    "milp_model.print_information()"
   ]
  },
  {
   "cell_type": "code",
   "execution_count": 80,
   "metadata": {},
   "outputs": [
    {
     "name": "stdout",
     "output_type": "stream",
     "text": [
      "3.9999999999999987 == 3.9999999999999987\n",
      "0.8945205479452051 == 0.8945205479452051\n",
      "3.9999999999999987 == 3.9999999999999987\n",
      "0.8945205479452051 == 0.8945205479452051\n"
     ]
    }
   ],
   "source": [
    "for i in range(4):\n",
    "    print(f\"{solution.get_value(x[40][i])} == {sum(A[i, j] * solution.get_value(x[39][j]) for j in range(4))+ sum(B[i, j] * solution.get_value(u[39][j]) for j in range(2))}\")\n",
    "\n",
    "                        "
   ]
  },
  {
   "cell_type": "code",
   "execution_count": 81,
   "metadata": {},
   "outputs": [
    {
     "data": {
      "image/png": "[encoded data removed]",
      "text/plain": [
       "<Figure size 700x700 with 1 Axes>"
      ]
     },
     "metadata": {},
     "output_type": "display_data"
    },
    {
     "data": {
      "image/png": "[encoded data removed]",
      "text/plain": [
       "<Figure size 1000x400 with 1 Axes>"
      ]
     },
     "metadata": {},
     "output_type": "display_data"
    }
   ],
   "source": [
    "# Extract trajectory\n",
    "trajectory = np.array([\n",
    "    [solution.get_value(x[k][i]) for i in range(4)]\n",
    "    for k in range(N + 1)\n",
    "])\n",
    "\n",
    "# Extract control inputs\n",
    "control_inputs = np.array([\n",
    "    [solution.get_value(u[k][i]) for i in range(2)]\n",
    "    for k in range(N)\n",
    "])\n",
    "\n",
    "# For the stay part, we can extend the trajectory?\n",
    "\n",
    "# ---- Plot Trajectory ----\n",
    "plt.figure(figsize=(7, 7))\n",
    "plt.plot(trajectory[:, 0], trajectory[:, 2], marker='o', label='Trajectory')\n",
    "plt.xlabel('X Position')\n",
    "plt.ylabel('Y Position')\n",
    "plt.title('State Trajectory')\n",
    "plt.grid(True)\n",
    "plt.legend()\n",
    "\n",
    "# Plot Obstacles\n",
    "for region in unsafe_regions:\n",
    "    lower, upper = region\n",
    "    bottom_left = [lower[0], lower[2]]\n",
    "    width = upper[0] - lower[0]\n",
    "    height = upper[2] - lower[2]\n",
    "    plt.gca().add_patch(plt.Rectangle(bottom_left, width, height, color='red', alpha=0.5))\n",
    "\n",
    "# Plot Target Set\n",
    "bottom_left = [target_set[0][0], target_set[0][2]]\n",
    "width = target_set[1][0] - target_set[0][0]\n",
    "height = target_set[1][2] - target_set[0][2]\n",
    "plt.gca().add_patch(plt.Rectangle(bottom_left, width, height, color='blue', alpha=0.5))\n",
    "\n",
    "plt.show()\n",
    "\n",
    "# ---- Plot Control Inputs ----\n",
    "plt.figure(figsize=(10, 4))\n",
    "plt.step(range(N), control_inputs[:, 0], label='u_x')\n",
    "plt.step(range(N), control_inputs[:, 1], label='u_y')\n",
    "plt.xlabel('Time step')\n",
    "plt.ylabel('Control input')\n",
    "plt.title('Control Inputs over Time')\n",
    "plt.grid(True)\n",
    "plt.legend()\n",
    "plt.show()"
   ]
  },
  {
   "cell_type": "markdown",
   "metadata": {},
   "source": [
    "### Implementation with GUROBI"
   ]
  },
  {
   "cell_type": "code",
   "execution_count": 126,
   "metadata": {},
   "outputs": [],
   "source": [
    "import gurobipy as gp\n",
    "from gurobipy import GRB"
   ]
  },
  {
   "cell_type": "code",
   "execution_count": 141,
   "metadata": {},
   "outputs": [],
   "source": [
    "milp_guro_model = gp.Model(\"ReachAvoidGurobi\")"
   ]
  },
  {
   "cell_type": "code",
   "execution_count": null,
   "metadata": {},
   "outputs": [],
   "source": [
    "# Decision variables\n",
    "x = milp_guro_model.addVars(N + 1, 4, vtype=GRB.CONTINUOUS, name=\"x\")\n",
    "u = milp_guro_model.addVars(N, 2, lb=-1, ub=1, vtype=GRB.CONTINUOUS, name=\"u\")\n",
    "w = milp_guro_model.addVars(N, 2, lb=0, vtype=GRB.CONTINUOUS, name=\"w\")\n",
    "b = {}\n",
    "for obs_idx, (P, Q) in enumerate(obstacles):\n",
    "    for k in range(N):\n",
    "        for i in range(4):\n",
    "            b[k, obs_idx, i] = milp_guro_model.addVar(vtype=GRB.BINARY, name=f\"b_{k}_{obs_idx}_{i}\")\n"
   ]
  },
  {
   "cell_type": "code",
   "execution_count": 143,
   "metadata": {},
   "outputs": [],
   "source": [
    "# Constraints\n",
    "# Initial state\n",
    "x_init = np.array([0.5, 0.5, 0.5, 0.5])\n",
    "for i in range(4):\n",
    "    milp_guro_model.addConstr(x[0, i] == x_init[i])\n",
    "\n",
    "# Dynamics constraints\n",
    "for k in range(N):\n",
    "    for i in range(4):\n",
    "        milp_guro_model.addConstr(\n",
    "            x[k + 1, i] == gp.quicksum(A[i, j] * x[k, j] for j in range(4)) +\n",
    "                          gp.quicksum(B[i, j] * u[k, j] for j in range(2))\n",
    "        )\n",
    "\n",
    "    # State constraints\n",
    "    milp_guro_model.addConstrs((x[k, i] >= 0 for i in range(4)))\n",
    "    milp_guro_model.addConstrs((x[k, i] <= 5 for i in range(4)))\n",
    "    milp_guro_model.addConstr(x[k, 1] >= -1)\n",
    "    milp_guro_model.addConstr(x[k, 1] <= 1)\n",
    "    milp_guro_model.addConstr(x[k, 3] >= -1)\n",
    "    milp_guro_model.addConstr(x[k, 3] <= 1)\n",
    "\n",
    "    # w absolute value constraint\n",
    "    for i in range(2):\n",
    "        milp_guro_model.addConstr(w[k, i] >= u[k, i])\n",
    "        milp_guro_model.addConstr(w[k, i] >= -u[k, i])\n"
   ]
  },
  {
   "cell_type": "code",
   "execution_count": 144,
   "metadata": {},
   "outputs": [],
   "source": [
    "# Obstacle avoidance\n",
    "for obs_idx, (P, Q) in enumerate(obstacles):\n",
    "    for k in range(1, N):\n",
    "        for i in range(4):\n",
    "            lhs = -(P[i, 0] * x[k, 0] + P[i, 1] * x[k, 2])\n",
    "            rhs = -Q[i, 0] + M * (1 - b[k, obs_idx, i]) - epsilon\n",
    "            milp_guro_model.addConstr(lhs <= rhs)\n",
    "        milp_guro_model.addConstr(gp.quicksum(b[k, obs_idx, i] for i in range(4)) >= 1)\n",
    "\n",
    "# for k in range(1, N):\n",
    "#     for i in range(4):\n",
    "#         lhs = -(P1[i, 0] * x[k, 0] + P1[i, 1] * x[k, 2])\n",
    "#         rhs = -Q1[i, 0] + M * (1 - b[k, i]) - epsilon\n",
    "#         milp_guro_model.addConstr(lhs <= rhs)\n",
    "#     milp_guro_model.addConstr(gp.quicksum(b[k, i] for i in range(4)) >= 1)\n",
    "\n"
   ]
  },
  {
   "cell_type": "code",
   "execution_count": 145,
   "metadata": {},
   "outputs": [
    {
     "data": {
      "text/plain": [
       "<gurobi.Constr *Awaiting Model Update*>"
      ]
     },
     "execution_count": 145,
     "metadata": {},
     "output_type": "execute_result"
    }
   ],
   "source": [
    "# Target constraint\n",
    "milp_guro_model.addConstr(x[N, 0] >= target_set[0][0])\n",
    "milp_guro_model.addConstr(x[N, 0] <= target_set[1][0])\n",
    "milp_guro_model.addConstr(x[N, 2] >= target_set[0][2])\n",
    "milp_guro_model.addConstr(x[N, 2] <= target_set[1][2])\n",
    "\n",
    "# Target velocity constraint\n",
    "milp_guro_model.addConstr(x[N, 1] >= target_set[0][1])\n",
    "milp_guro_model.addConstr(x[N, 1] <= target_set[1][1])\n",
    "milp_guro_model.addConstr(x[N, 3] >= target_set[0][3])\n",
    "milp_guro_model.addConstr(x[N, 3] >= target_set[1][3])\n"
   ]
  },
  {
   "cell_type": "code",
   "execution_count": 146,
   "metadata": {},
   "outputs": [],
   "source": [
    "# Objective: minimize control effort\n",
    "control_effort = gp.quicksum(1 + gamma * w[k, i] for k in range(N) for i in range(2))\n",
    "\n",
    "milp_guro_model.setObjective(control_effort, GRB.MINIMIZE)\n"
   ]
  },
  {
   "cell_type": "code",
   "execution_count": 147,
   "metadata": {},
   "outputs": [
    {
     "name": "stdout",
     "output_type": "stream",
     "text": [
      "Statistics for model 'ReachAvoidGurobi':\n",
      "  Problem type                : MIP\n",
      "  Linear constraint matrix    : 27992 rows, 16804 columns, 57364 nonzeros\n",
      "  Variable types              : 5604 continuous, 11200 integer (11200 binary)\n",
      "  Matrix range                : [5e-03, 1e+03]\n",
      "  Objective range             : [1e-01, 1e-01]\n",
      "  Bounds range                : [1e+00, 1e+00]\n",
      "  RHS range                   : [1e-01, 1e+03]\n"
     ]
    }
   ],
   "source": [
    "milp_guro_model.printStats()"
   ]
  },
  {
   "cell_type": "code",
   "execution_count": 148,
   "metadata": {},
   "outputs": [
    {
     "name": "stdout",
     "output_type": "stream",
     "text": [
      "Set parameter OutputFlag to value 1\n",
      "Gurobi Optimizer version 12.0.1 build v12.0.1rc0 (win64 - Windows 11.0 (26100.2))\n",
      "\n",
      "CPU model: 11th Gen Intel(R) Core(TM) i7-11800H @ 2.30GHz, instruction set [SSE2|AVX|AVX2|AVX512]\n",
      "Thread count: 8 physical cores, 16 logical processors, using up to 16 threads\n",
      "\n",
      "Optimize a model with 27992 rows, 16804 columns and 57364 nonzeros\n",
      "Model fingerprint: 0xb9f1c39c\n",
      "Variable types: 5604 continuous, 11200 integer (11200 binary)\n",
      "Coefficient statistics:\n",
      "  Matrix range     [5e-03, 1e+03]\n",
      "  Objective range  [1e-01, 1e-01]\n",
      "  Bounds range     [1e+00, 1e+00]\n",
      "  RHS range        [1e-01, 1e+03]\n",
      "Presolve removed 11407 rows and 2869 columns\n",
      "Presolve time: 0.17s\n",
      "Presolved: 16585 rows, 13935 columns, 43630 nonzeros\n",
      "Variable types: 4162 continuous, 9773 integer (9773 binary)\n",
      "\n",
      "Root relaxation: objective 1.400911e+03, 12503 iterations, 0.42 seconds (0.74 work units)\n",
      "\n",
      "    Nodes    |    Current Node    |     Objective Bounds      |     Work\n",
      " Expl Unexpl |  Obj  Depth IntInf | Incumbent    BestBd   Gap | It/Node Time\n",
      "\n",
      "     0     0 1400.91134    0  897          - 1400.91134      -     -    1s\n",
      "H    0     0                    1406.3893668 1400.91134  0.39%     -    1s\n",
      "H    0     0                    1405.7672330 1400.91134  0.35%     -    2s\n",
      "     0     0 1400.91134    0  874 1405.76723 1400.91134  0.35%     -    2s\n",
      "     0     0 1400.91134    0  846 1405.76723 1400.91134  0.35%     -    2s\n",
      "H    0     0                    1404.9578034 1400.91134  0.29%     -    3s\n",
      "     0     0 1400.91134    0  670 1404.95780 1400.91134  0.29%     -    4s\n",
      "H    0     0                    1404.6755850 1400.91134  0.27%     -    4s\n",
      "     0     0 1400.91134    0  644 1404.67559 1400.91134  0.27%     -    4s\n",
      "     0     0 1400.91138    0  637 1404.67559 1400.91138  0.27%     -    4s\n",
      "H    0     0                    1404.1908949 1400.91138  0.23%     -    5s\n",
      "     0     0 1400.91138    0  634 1404.19089 1400.91138  0.23%     -    5s\n",
      "     0     0 1400.91138    0  616 1404.19089 1400.91138  0.23%     -    5s\n",
      "H    0     0                    1403.7422870 1400.91138  0.20%     -    8s\n",
      "     0     0 1400.91147    0  616 1403.74229 1400.91147  0.20%     -    8s\n",
      "H    0     0                    1403.6504298 1400.91147  0.20%     -    8s\n",
      "     0     2 1400.91147    0  616 1403.65043 1400.91147  0.20%     -    8s\n",
      "     3     8 1400.91147    2  616 1403.65043 1400.91147  0.20%  1251   10s\n",
      "H  225   231                    1402.8850203 1400.91147  0.14%  79.4   12s\n",
      "H  228   231                    1402.6054622 1400.91147  0.12%  79.9   12s\n",
      "H  470   470                    1401.6012795 1400.91147  0.05%  62.7   13s\n",
      "   766  1016 1400.91217   48  610 1401.60128 1400.91147  0.05%  44.4   15s\n",
      "* 1014   991             180    1401.4182026 1400.91147  0.04%  40.2   15s\n",
      "* 1016   991             181    1401.4116439 1400.91147  0.04%  40.2   15s\n",
      "  1977  1987     cutoff  194      1401.41164 1400.91147  0.04%  45.8   20s\n",
      "H 1978  1448                    1401.2188029 1400.91147  0.02%  45.8   20s\n",
      "H 2245  1732                    1401.2163994 1400.91147  0.02%  50.1   21s\n",
      "H 2946  1908                    1401.1720089 1400.91147  0.02%  48.4   22s\n",
      "H 3361  2154                    1401.1457715 1400.91147  0.02%  45.2   24s\n",
      "H 3424  1819                    1401.0616322 1400.91147  0.01%  45.1   24s\n",
      "  3494  1741 1401.03140  109  616 1401.06163 1400.91147  0.01%  45.5   26s\n",
      "  3496  1742 1400.95099  109  836 1401.06163 1400.91147  0.01%  45.4   30s\n",
      "  3501  1748 1400.91147   15  669 1401.06163 1400.91147  0.01%  51.1   35s\n",
      "  3623  1788 1400.94152   24  840 1401.06163 1400.91147  0.01%  58.2   40s\n",
      "  4090  1884 1400.93546   40  602 1401.06163 1400.92014  0.01%  73.3   46s\n",
      "* 4616  1761             165    1401.0482384 1400.92014  0.01%  75.8   49s\n",
      "* 4619  1677             167    1401.0472698 1400.92014  0.01%  75.8   49s\n",
      "* 4806  1536             193    1401.0424537 1400.92014  0.01%  77.1   49s\n",
      "* 4807  1460             193    1401.0422543 1400.92014  0.01%  77.0   49s\n",
      "\n",
      "Cutting planes:\n",
      "  Learned: 31\n",
      "  Cover: 121\n",
      "  Clique: 29\n",
      "  MIR: 60\n",
      "  StrongCG: 1\n",
      "\n",
      "Explored 4954 nodes (408021 simplex iterations) in 49.60 seconds (64.75 work units)\n",
      "Thread count was 16 (of 16 available processors)\n",
      "\n",
      "Solution count 10: 1401.04 1401.04 1401.05 ... 1401.17\n",
      "\n",
      "Optimal solution found (tolerance 1.00e-04)\n",
      "Best objective 1.401042254334e+03, best bound 1.400920142345e+03, gap 0.0087%\n"
     ]
    }
   ],
   "source": [
    "# Solve\n",
    "milp_guro_model.Params.OutputFlag = 1\n",
    "milp_guro_model.optimize()"
   ]
  },
  {
   "cell_type": "code",
   "execution_count": 149,
   "metadata": {},
   "outputs": [],
   "source": [
    "milp_guro_model.write(\"solution.sol\")"
   ]
  },
  {
   "cell_type": "code",
   "execution_count": 150,
   "metadata": {},
   "outputs": [
    {
     "data": {
      "image/png": "[encoded data removed]",
      "text/plain": [
       "<Figure size 640x480 with 1 Axes>"
      ]
     },
     "metadata": {},
     "output_type": "display_data"
    },
    {
     "data": {
      "image/png": "[encoded data removed]",
      "text/plain": [
       "<Figure size 1000x400 with 1 Axes>"
      ]
     },
     "metadata": {},
     "output_type": "display_data"
    }
   ],
   "source": [
    "# Extract and plot solution\n",
    "if milp_guro_model.Status == GRB.OPTIMAL:\n",
    "\n",
    "    # Plot Obstacles\n",
    "    for region in unsafe_regions:\n",
    "        lower, upper = region\n",
    "        bottom_left = [lower[0], lower[2]]\n",
    "        width = upper[0] - lower[0]\n",
    "        height = upper[2] - lower[2]\n",
    "        plt.gca().add_patch(plt.Rectangle(bottom_left, width, height, color='red', alpha=0.5))\n",
    "\n",
    "    # Plot Target Set\n",
    "    bottom_left = [target_set[0][0], target_set[0][2]]\n",
    "    width = target_set[1][0] - target_set[0][0]\n",
    "    height = target_set[1][2] - target_set[0][2]\n",
    "    plt.gca().add_patch(plt.Rectangle(bottom_left, width, height, color='blue', alpha=0.5))\n",
    "\n",
    "    # Extract Trajectory\n",
    "    traj = np.array(\n",
    "        [[x[k, i].X for i in range(4)] \n",
    "         for k in range(N + 1)])\n",
    "\n",
    "    plt.plot(traj[:, 0], traj[:, 2], marker='o')\n",
    "    plt.title(\"Trajectory (Gurobi)\")\n",
    "    plt.xlabel(\"X\")\n",
    "    plt.ylabel(\"Y\")\n",
    "    plt.grid(True)\n",
    "    plt.show()\n",
    "\n",
    "    # Extract control inputs\n",
    "    control_inputs = np.array([\n",
    "        [u[k, i].X for i in range(2)]\n",
    "        for k in range(N)])\n",
    "    \n",
    "    # ---- Plot Control Inputs ----\n",
    "    plt.figure(figsize=(10, 4))\n",
    "    plt.step(range(N), control_inputs[:, 0], label='u_x')\n",
    "    plt.step(range(N), control_inputs[:, 1], label='u_y')\n",
    "    plt.xlabel('Time step')\n",
    "    plt.ylabel('Control input')\n",
    "    plt.title('Control Inputs over Time')\n",
    "    plt.grid(True)\n",
    "    plt.legend()\n",
    "    plt.show()\n",
    "\n",
    "    \n",
    "else:\n",
    "    print(\"No feasible solution found.\")"
   ]
  },
  {
   "cell_type": "markdown",
   "metadata": {},
   "source": [
    "## References\n",
    "-   Afonso RJM, Maximo MROA, Galvão RKH. Task allocation and trajectory planning for multiple agents in the presence of obstacle and connectivity constraints with mixed-integer linear programming. Int J Robust Nonlinear Control. 2020; 30: 5464–5491. https://doi.org/10.1002/rnc.5092\n",
    "\n",
    "-   SchouwenaarsT, MoorDB, FeronE, HowJP. Mixed integer programming for multi-vehicle path planning. Paper presented at: Proceedings of the 2001 European Control Conference (ECC). Proceedings of the European Control Conference (ECC); 2001:2603-2608; Porto, Portugal. "
   ]
  }
 ],
 "metadata": {
  "kernelspec": {
   "display_name": "Python 3",
   "language": "python",
   "name": "python3"
  },
  "language_info": {
   "codemirror_mode": {
    "name": "ipython",
    "version": 3
   },
   "file_extension": ".py",
   "mimetype": "text/x-python",
   "name": "python",
   "nbconvert_exporter": "python",
   "pygments_lexer": "ipython3",
   "version": "3.10.7"
  }
 },
 "nbformat": 4,
 "nbformat_minor": 2
}
